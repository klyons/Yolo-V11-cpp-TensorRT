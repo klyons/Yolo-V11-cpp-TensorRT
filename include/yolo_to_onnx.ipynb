{
 "cells": [
  {
   "cell_type": "code",
   "execution_count": null,
   "metadata": {},
   "outputs": [],
   "source": [
    "from ultralytics import YOLO\n",
    "#Load the YOLO model\n",
    "model = YOLO(\"yolo11s.pt\")\n",
    "#Export the model to ONNX format\n",
    "export_path = model.export(format=\"onnx\")"
   ]
  }
 ],
 "metadata": {
  "kernelspec": {
   "display_name": "Python 3",
   "language": "python",
   "name": "python3"
  },
  "language_info": {
   "name": "python",
   "version": "3.12.0"
  }
 },
 "nbformat": 4,
 "nbformat_minor": 2
}
